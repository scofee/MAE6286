{
 "cells": [
  {
   "cell_type": "code",
   "execution_count": 1,
   "metadata": {},
   "outputs": [],
   "source": [
    "import numpy\n",
    "from matplotlib import pyplot, animation\n",
    "from IPython.display import HTML\n",
    "%matplotlib inline"
   ]
  },
  {
   "cell_type": "code",
   "execution_count": 2,
   "metadata": {},
   "outputs": [],
   "source": [
    "pyplot.rcParams['font.family'] = 'serif'\n",
    "pyplot.rcParams['font.size'] = 16"
   ]
  },
  {
   "cell_type": "code",
   "execution_count": 4,
   "metadata": {},
   "outputs": [],
   "source": [
    "from traffic import rho_red_light, flux"
   ]
  },
  {
   "cell_type": "code",
   "execution_count": 5,
   "metadata": {},
   "outputs": [
    {
     "name": "stdout",
     "output_type": "stream",
     "text": [
      "Help on function rho_red_light in module traffic:\n",
      "\n",
      "rho_red_light(x, rho_max)\n",
      "    Computes the \"red light\" initial condition with shock.\n",
      "    \n",
      "    Parameters\n",
      "    ----------\n",
      "    x : numpy.ndarray\n",
      "        Locations on the road as a 1D array of floats.\n",
      "    rho_max : float\n",
      "        The maximum traffic density allowed.\n",
      "    \n",
      "    Returns\n",
      "    -------\n",
      "    rho : numpy.ndarray\n",
      "        The initial car density along the road as a 1D array of floats.\n",
      "\n"
     ]
    }
   ],
   "source": [
    "help(rho_red_light)"
   ]
  },
  {
   "cell_type": "code",
   "execution_count": 6,
   "metadata": {},
   "outputs": [],
   "source": [
    "nx = 100  \n",
    "L = 4.0  \n",
    "dx = L / nx \n",
    "nt = 30 \n",
    "rho_max = 10.0  \n",
    "u_max = 1.0  \n",
    "\n",
    "\n",
    "x = numpy.linspace(0.0 + 0.5 * dx, L - 0.5 * dx, num=nx)\n",
    "\n",
    "rho0 = rho_red_light(x, rho_max)"
   ]
  },
  {
   "cell_type": "code",
   "execution_count": 7,
   "metadata": {},
   "outputs": [
    {
     "data": {
      "image/png": "[encoded data removed]",
      "text/plain": [
       "<Figure size 432x288 with 1 Axes>"
      ]
     },
     "metadata": {},
     "output_type": "display_data"
    }
   ],
   "source": [
    "fig = pyplot.figure(figsize=(6.0, 4.0))\n",
    "pyplot.xlabel(r'$x$')\n",
    "pyplot.ylabel(r'$\\rho$')\n",
    "pyplot.grid()\n",
    "line = pyplot.plot(x, rho0,\n",
    "                   color='C0', linestyle='-', linewidth=2)[0]\n",
    "pyplot.xlim(0.0, L)\n",
    "pyplot.ylim(4.0, 11.0)\n",
    "pyplot.tight_layout();"
   ]
  },
  {
   "cell_type": "code",
   "execution_count": 8,
   "metadata": {},
   "outputs": [],
   "source": [
    "def godunov(rho0, nt, dt, dx, bc_values, *args):\n",
    "    rho_hist = [rho0.copy()]\n",
    "    rho = rho0.copy()\n",
    "    for n in range(nt):\n",
    "        rhoL = rho[:-1]  # i-th value at index i-1/2\n",
    "        rhoR = rho[1:]  # i+1-th value at index i-1/2\n",
    "        # Compute the flux at cell boundaries.\n",
    "        F = 0.5 * (flux(rhoL, *args) + flux(rhoR, *args) -\n",
    "                   dx / dt * (rhoR - rhoL))\n",
    "        # Advance in time.\n",
    "        rho[1:-1] = rho[1:-1] - dt / dx * (F[1:] - F[:-1])\n",
    "        # Apply boundary conditions.\n",
    "        rho[0], rho[-1] = bc_values\n",
    "        # Record the time-step solution.\n",
    "        rho_hist.append(rho.copy())\n",
    "    return rho_hist"
   ]
  },
  {
   "cell_type": "code",
   "execution_count": 10,
   "metadata": {},
   "outputs": [],
   "source": [
    "sigma = 1.0\n",
    "dt = sigma * dx / u_max  \n",
    "rho_hist = godunov(rho0, nt, dt, dx, (rho0[0], rho0[-1]),\n",
    "                   u_max, rho_max)"
   ]
  },
  {
   "cell_type": "code",
   "execution_count": 11,
   "metadata": {},
   "outputs": [],
   "source": [
    "def update_plot(n, rho_hist):\n",
    "    fig.suptitle('Time step {:0>2}'.format(n))\n",
    "    line.set_ydata(rho_hist[n])"
   ]
  },
  {
   "cell_type": "code",
   "execution_count": 12,
   "metadata": {},
   "outputs": [],
   "source": [
    "def minmod(e, dx):\n",
    "    sigma = numpy.zeros_like(e)\n",
    "    for i in range(1, len(e) - 1):\n",
    "        de_minus = (e[i] - e[i - 1]) / dx\n",
    "        de_plus = (e[i + 1] - e[i]) / dx\n",
    "        if de_minus > 0 and de_plus > 0:\n",
    "            sigma[i] = min(de_minus, de_plus)\n",
    "        elif de_minus < 0 and de_plus < 0:\n",
    "            sigma[i] = max(de_minus, de_plus)\n",
    "        else:\n",
    "            sigma[i] = 0.0\n",
    "    return sigma"
   ]
  },
  {
   "cell_type": "code",
   "execution_count": 13,
   "metadata": {},
   "outputs": [],
   "source": [
    "def muscl(rho0, nt, dt, dx, bc_values, *args):\n",
    "    def compute_flux(rho):\n",
    "        sigma = minmod(rho, dx)\n",
    "        rhoL = (rho + sigma * dx / 2.0)[:-1]\n",
    "        rhoR = (rho - sigma * dx / 2.0)[1:]\n",
    "        F = 0.5 * (flux(rhoL, *args) + flux(rhoR, *args) -\n",
    "                   dx / dt * (rhoR - rhoL))\n",
    "        return F\n",
    "    rho_hist = [rho0.copy()]\n",
    "    rho = rho0.copy()\n",
    "    rho_star = rho.copy()\n",
    "    for n in range(nt):\n",
    "        F = compute_flux(rho)\n",
    "        rho_star[1:-1] = rho[1:-1] - dt / dx * (F[1:] - F[:-1])\n",
    "        rho_star[0], rho_star[-1] = bc_values\n",
    "        F = compute_flux(rho_star)\n",
    "        rho[1:-1] = 0.5 * (rho[1:-1] + rho_star[1:-1] -\n",
    "                           dt / dx * (F[1:] - F[:-1]))\n",
    "        rho[0], rho[-1] = bc_values\n",
    "        rho_hist.append(rho.copy())\n",
    "    return rho_hist"
   ]
  },
  {
   "cell_type": "code",
   "execution_count": 14,
   "metadata": {},
   "outputs": [],
   "source": [
    "sigma = 1.0\n",
    "dt = sigma * dx / u_max  \n",
    "rho_hist = muscl(rho0, nt, dt, dx, (rho0[0], rho0[-1]),\n",
    "                 u_max, rho_max)"
   ]
  }
 ],
 "metadata": {
  "kernelspec": {
   "display_name": "Python 3",
   "language": "python",
   "name": "python3"
  },
  "language_info": {
   "codemirror_mode": {
    "name": "ipython",
    "version": 3
   },
   "file_extension": ".py",
   "mimetype": "text/x-python",
   "name": "python",
   "nbconvert_exporter": "python",
   "pygments_lexer": "ipython3",
   "version": "3.6.2"
  }
 },
 "nbformat": 4,
 "nbformat_minor": 2
}
